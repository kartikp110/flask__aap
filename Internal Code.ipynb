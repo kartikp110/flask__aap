{
 "cells": [
  {
   "cell_type": "code",
   "execution_count": 2,
   "id": "1d71cecb",
   "metadata": {},
   "outputs": [
    {
     "data": {
      "text/plain": [
       "-1"
      ]
     },
     "execution_count": 2,
     "metadata": {},
     "output_type": "execute_result"
    }
   ],
   "source": [
    "import pandas as pd\n",
    "import re\n",
    "import mysql.connector as sql\n",
    "from sqlalchemy import create_engine\n",
    "\n",
    "\n",
    "def find_date(text):\n",
    "    \"\"\"\n",
    "    text: set of string containing mmm year\n",
    "    We have created this function to get the month and year from string and convert it to datetime format\n",
    "    \"\"\"\n",
    "    regex = re.compile('(?P<month>[a-zA-Z]+'')\\s+(?P<year>\\d{4})')\n",
    "    m = regex.search(text)\n",
    "   \n",
    "    dt='01-'+str(m.group('month'))+\"-\"+str(m.group('year'))    \n",
    "    return dt\n",
    "\n",
    "\n",
    "\n",
    "def unstructuredpivottostruduredpivot(excelfilpath):\n",
    "    \"\"\"\n",
    "    excelfilepath: This variable takes excel file path\n",
    "    In this function we have applied rule based logic to convert unstructured pivot table to structured pivot table\n",
    "    Note: Few logics are rule based hence if any change in format of excel require fine tuning of code\n",
    "    \"\"\"\n",
    "   \n",
    "    output_datum_df=pd.DataFrame(columns=['Category','DataItemCode','DataItemName','SubDataItem','State','District','Value'])\n",
    "   \n",
    "    df=pd.read_excel(\"Book1.xlsx\",sheet_name=\"Sheet1\")\n",
    "    data_load_date=find_date(df.columns[0])\n",
    "    #print(data_load_date)\n",
    "   \n",
    "    df=df.iloc[1: , :]\n",
    "    df.columns=list(df.head(1).ffill(axis=1).values[0])\n",
    "\n",
    "    df=df.iloc[1: , :]\n",
    "    df=df.T\n",
    "\n",
    "    df=df.reset_index()\n",
    "    df.iloc[0]=df.head(1).ffill(axis=1).values[0]\n",
    "   \n",
    "    df=df.T\n",
    "   \n",
    "    k=4\n",
    "   \n",
    "    model_datum_dct={}\n",
    "    for i in range(len(df.head(1).values[0])-4):\n",
    "        j=k+i\n",
    "        length=len(df.iloc[2::,][j])\n",
    "        output_datum_df.loc[len(output_datum_df)]=[list(df.iloc[2::,][0].values),list(df.iloc[2::,][1].values),\n",
    "                                  list(df.iloc[2::,][2].values),list(df.iloc[2::,][3].values),\n",
    "                                  [df.head(1).values[0][j]]*length,[df.iloc[1:,:].head(1).values[0][j]]*length,\n",
    "                                  list(df.iloc[2::,][j].values)]\n",
    "       \n",
    "       \n",
    "    output_datum_df=output_datum_df.explode(['Category','DataItemCode','DataItemName','SubDataItem','State','District','Value'])\n",
    "    output_datum_df['Date']=data_load_date\n",
    "   \n",
    "   \n",
    "   \n",
    "    return output_datum_df[['Date','Category','DataItemCode','DataItemName','SubDataItem','State','District','Value']]\n",
    "   \n",
    "   \n",
    "   \n",
    "\n",
    "\n",
    "datum_df=unstructuredpivottostruduredpivot(\"Book1.xlsx\") \n",
    "\n",
    "\n",
    "\n",
    "Server='LAPTOP-5N0V7Q2J\\SQLEXPRESS'\n",
    "Database='master'\n",
    "Driver='ODBC Driver 17 for SQL Server'\n",
    "Database_Con=f'mssql://@{Server}/{Database}?driver={Driver}'\n",
    "\n",
    "engine=create_engine(Database_Con)\n",
    "con=engine.connect()\n",
    "\n",
    "\n",
    "\n",
    "# datum_df.to_sql(con=my_conn,name='work',if_exists='append',index=False)\n",
    "\n",
    "datum_df.to_sql('Work',engine,if_exists='append',index=False)"
   ]
  },
  {
   "cell_type": "code",
   "execution_count": 6,
   "id": "221055e8",
   "metadata": {},
   "outputs": [
    {
     "name": "stderr",
     "output_type": "stream",
     "text": [
      "C:\\Users\\karti\\anaconda3\\lib\\site-packages\\pandas\\io\\sql.py:762: UserWarning: pandas only support SQLAlchemy connectable(engine/connection) ordatabase string URI or sqlite3 DBAPI2 connectionother DBAPI2 objects are not tested, please consider using SQLAlchemy\n",
      "  warnings.warn(\n"
     ]
    }
   ],
   "source": [
    "import pandas as pd\n",
    "import pyodbc\n",
    "\n",
    "sql_conn = pyodbc.connect('DRIVER={ODBC Driver 17 for SQL Server};'\n",
    "                            'SERVER=LAPTOP-5N0V7Q2J\\SQLEXPRESS;'\n",
    "                            'DATABASE=master;'\n",
    "                            'Trusted_Connection=yes;') \n",
    "query = \"SELECT * from flight where ID='U2F26'\"\n",
    "df = pd.read_sql(query, sql_conn)"
   ]
  },
  {
   "cell_type": "code",
   "execution_count": 7,
   "id": "95569300",
   "metadata": {},
   "outputs": [
    {
     "data": {
      "text/html": [
       "<div>\n",
       "<style scoped>\n",
       "    .dataframe tbody tr th:only-of-type {\n",
       "        vertical-align: middle;\n",
       "    }\n",
       "\n",
       "    .dataframe tbody tr th {\n",
       "        vertical-align: top;\n",
       "    }\n",
       "\n",
       "    .dataframe thead th {\n",
       "        text-align: right;\n",
       "    }\n",
       "</style>\n",
       "<table border=\"1\" class=\"dataframe\">\n",
       "  <thead>\n",
       "    <tr style=\"text-align: right;\">\n",
       "      <th></th>\n",
       "      <th>ID</th>\n",
       "      <th>Department</th>\n",
       "      <th>Office</th>\n",
       "      <th>Rating</th>\n",
       "    </tr>\n",
       "  </thead>\n",
       "  <tbody>\n",
       "    <tr>\n",
       "      <th>0</th>\n",
       "      <td>U2F26</td>\n",
       "      <td>Finance</td>\n",
       "      <td>New Delhi</td>\n",
       "      <td>3.4</td>\n",
       "    </tr>\n",
       "  </tbody>\n",
       "</table>\n",
       "</div>"
      ],
      "text/plain": [
       "      ID Department     Office  Rating\n",
       "0  U2F26    Finance  New Delhi     3.4"
      ]
     },
     "execution_count": 7,
     "metadata": {},
     "output_type": "execute_result"
    }
   ],
   "source": [
    "df"
   ]
  },
  {
   "cell_type": "code",
   "execution_count": null,
   "id": "3c31add3",
   "metadata": {},
   "outputs": [],
   "source": []
  }
 ],
 "metadata": {
  "kernelspec": {
   "display_name": "Python 3 (ipykernel)",
   "language": "python",
   "name": "python3"
  },
  "language_info": {
   "codemirror_mode": {
    "name": "ipython",
    "version": 3
   },
   "file_extension": ".py",
   "mimetype": "text/x-python",
   "name": "python",
   "nbconvert_exporter": "python",
   "pygments_lexer": "ipython3",
   "version": "3.9.13"
  }
 },
 "nbformat": 4,
 "nbformat_minor": 5
}
